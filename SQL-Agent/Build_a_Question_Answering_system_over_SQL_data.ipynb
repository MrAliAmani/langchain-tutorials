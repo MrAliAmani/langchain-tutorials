{
  "nbformat": 4,
  "nbformat_minor": 0,
  "metadata": {
    "colab": {
      "provenance": [],
      "gpuType": "T4"
    },
    "kernelspec": {
      "name": "python3",
      "display_name": "Python 3"
    },
    "language_info": {
      "name": "python"
    },
    "accelerator": "GPU"
  },
  "cells": [
    {
      "cell_type": "markdown",
      "source": [
        "# Build a Question/Answering system over SQL data"
      ],
      "metadata": {
        "id": "oaeWIxE_nK22"
      }
    },
    {
      "cell_type": "code",
      "source": [
        "%%capture --no-stderr\n",
        "%pip install --upgrade --quiet langchain langchain-community langchain-google-genai faiss-cpu langchain-groq langgraph"
      ],
      "metadata": {
        "id": "xSvfnL5hnNK7"
      },
      "execution_count": 1,
      "outputs": []
    },
    {
      "cell_type": "code",
      "source": [
        "!apt-get install sqlite3"
      ],
      "metadata": {
        "colab": {
          "base_uri": "https://localhost:8080/"
        },
        "id": "O-WYsnM2ovUb",
        "outputId": "65746d3f-9edd-4b15-bdc5-a0d4aac59b45"
      },
      "execution_count": 2,
      "outputs": [
        {
          "output_type": "stream",
          "name": "stdout",
          "text": [
            "Reading package lists... Done\n",
            "Building dependency tree... Done\n",
            "Reading state information... Done\n",
            "Suggested packages:\n",
            "  sqlite3-doc\n",
            "The following NEW packages will be installed:\n",
            "  sqlite3\n",
            "0 upgraded, 1 newly installed, 0 to remove and 45 not upgraded.\n",
            "Need to get 768 kB of archives.\n",
            "After this operation, 1,873 kB of additional disk space will be used.\n",
            "Get:1 http://archive.ubuntu.com/ubuntu jammy-updates/main amd64 sqlite3 amd64 3.37.2-2ubuntu0.3 [768 kB]\n",
            "Fetched 768 kB in 1s (1,391 kB/s)\n",
            "Selecting previously unselected package sqlite3.\n",
            "(Reading database ... 123594 files and directories currently installed.)\n",
            "Preparing to unpack .../sqlite3_3.37.2-2ubuntu0.3_amd64.deb ...\n",
            "Unpacking sqlite3 (3.37.2-2ubuntu0.3) ...\n",
            "Setting up sqlite3 (3.37.2-2ubuntu0.3) ...\n",
            "Processing triggers for man-db (2.10.2-1) ...\n"
          ]
        }
      ]
    },
    {
      "cell_type": "code",
      "source": [
        "from google.colab import userdata\n",
        "\n",
        "from operator import itemgetter\n",
        "import ast\n",
        "import re\n",
        "\n",
        "import sqlite3\n",
        "\n",
        "from langchain_community.utilities import SQLDatabase\n",
        "from langchain.chains import create_sql_query_chain\n",
        "from langchain_community.tools.sql_database.tool import QuerySQLDataBaseTool\n",
        "from langchain_core.output_parsers import StrOutputParser\n",
        "from langchain_core.prompts import PromptTemplate\n",
        "from langchain_core.runnables import RunnablePassthrough\n",
        "from langchain_community.agent_toolkits import SQLDatabaseToolkit\n",
        "from langchain_core.messages import SystemMessage\n",
        "from langchain_core.messages import HumanMessage\n",
        "from langgraph.prebuilt import create_react_agent\n",
        "from langchain.agents.agent_toolkits import create_retriever_tool\n",
        "from langchain_community.vectorstores import FAISS\n",
        "from langchain_google_genai import GoogleGenerativeAIEmbeddings\n",
        "from langchain_groq.chat_models import ChatGroq"
      ],
      "metadata": {
        "id": "IJ1Uq6VHnpOL"
      },
      "execution_count": 3,
      "outputs": []
    },
    {
      "cell_type": "code",
      "source": [
        "!wget https://raw.githubusercontent.com/lerocha/chinook-database/master/ChinookDatabase/DataSources/Chinook_Sqlite.sql"
      ],
      "metadata": {
        "colab": {
          "base_uri": "https://localhost:8080/"
        },
        "id": "irCgBd3lnzov",
        "outputId": "f8951b83-3bd1-45cd-a454-c2c349ff9971"
      },
      "execution_count": 4,
      "outputs": [
        {
          "output_type": "stream",
          "name": "stdout",
          "text": [
            "--2024-08-18 12:06:36--  https://raw.githubusercontent.com/lerocha/chinook-database/master/ChinookDatabase/DataSources/Chinook_Sqlite.sql\n",
            "Resolving raw.githubusercontent.com (raw.githubusercontent.com)... 185.199.108.133, 185.199.109.133, 185.199.110.133, ...\n",
            "Connecting to raw.githubusercontent.com (raw.githubusercontent.com)|185.199.108.133|:443... connected.\n",
            "HTTP request sent, awaiting response... 200 OK\n",
            "Length: 611447 (597K) [text/plain]\n",
            "Saving to: ‘Chinook_Sqlite.sql’\n",
            "\n",
            "\rChinook_Sqlite.sql    0%[                    ]       0  --.-KB/s               \rChinook_Sqlite.sql  100%[===================>] 597.12K  --.-KB/s    in 0.04s   \n",
            "\n",
            "2024-08-18 12:06:36 (16.0 MB/s) - ‘Chinook_Sqlite.sql’ saved [611447/611447]\n",
            "\n"
          ]
        }
      ]
    },
    {
      "cell_type": "code",
      "source": [
        "sql_file_name = \"/content/Chinook_Sqlite.sql\"\n",
        "db_name = \"/content/Chinook.db\"\n",
        "conn = sqlite3.connect(db_name)\n",
        "cursor = conn.cursor()\n",
        "\n",
        "with open(sql_file_name, 'r') as f:\n",
        "    sql_script = f.read()\n",
        "\n",
        "# Execute the script\n",
        "cursor.executescript(sql_script)\n",
        "\n",
        "# Commit changes\n",
        "conn.commit()\n",
        "\n",
        "# Close the connection\n",
        "conn.close()"
      ],
      "metadata": {
        "id": "5RQXTWoNsAaP"
      },
      "execution_count": 5,
      "outputs": []
    },
    {
      "cell_type": "code",
      "source": [
        "!sqlite3 Chinook.db \"SELECT * FROM Artist LIMIT 10;\""
      ],
      "metadata": {
        "colab": {
          "base_uri": "https://localhost:8080/"
        },
        "id": "yuq2WigGowgm",
        "outputId": "122e2865-5f20-49e7-b208-a58eebc59e05"
      },
      "execution_count": 6,
      "outputs": [
        {
          "output_type": "stream",
          "name": "stdout",
          "text": [
            "1|AC/DC\n",
            "2|Accept\n",
            "3|Aerosmith\n",
            "4|Alanis Morissette\n",
            "5|Alice In Chains\n",
            "6|Antônio Carlos Jobim\n",
            "7|Apocalyptica\n",
            "8|Audioslave\n",
            "9|BackBeat\n",
            "10|Billy Cobham\n"
          ]
        }
      ]
    },
    {
      "cell_type": "code",
      "source": [
        "LANGCHAIN_API_KEY = userdata.get('LANGCHAIN_API_KEY')\n",
        "LANGCHAIN_TRACING_V2 = userdata.get('LANGCHAIN_TRACING_V2')\n",
        "GOOGLE_API_KEY = userdata.get('GOOGLE_API_KEY')\n",
        "GROQ_API_KEY = userdata.get('GROQ_API_KEY')\n",
        "COHERE_API_KEY = userdata.get('COHERE_API_KEY')"
      ],
      "metadata": {
        "id": "nEddziPvncpZ"
      },
      "execution_count": 7,
      "outputs": []
    },
    {
      "cell_type": "code",
      "source": [
        "db = SQLDatabase.from_uri(\"sqlite:///Chinook.db\")\n",
        "print(db.dialect)\n",
        "print(db.get_usable_table_names())\n",
        "db.run(\"SELECT * FROM Artist LIMIT 10;\")"
      ],
      "metadata": {
        "id": "2UvaptIInjTV",
        "colab": {
          "base_uri": "https://localhost:8080/",
          "height": 91
        },
        "outputId": "937019b5-5058-473f-c4d3-ab63337f2f45"
      },
      "execution_count": 8,
      "outputs": [
        {
          "output_type": "stream",
          "name": "stdout",
          "text": [
            "sqlite\n",
            "['Album', 'Artist', 'Customer', 'Employee', 'Genre', 'Invoice', 'InvoiceLine', 'MediaType', 'Playlist', 'PlaylistTrack', 'Track']\n"
          ]
        },
        {
          "output_type": "execute_result",
          "data": {
            "text/plain": [
              "\"[(1, 'AC/DC'), (2, 'Accept'), (3, 'Aerosmith'), (4, 'Alanis Morissette'), (5, 'Alice In Chains'), (6, 'Antônio Carlos Jobim'), (7, 'Apocalyptica'), (8, 'Audioslave'), (9, 'BackBeat'), (10, 'Billy Cobham')]\""
            ],
            "application/vnd.google.colaboratory.intrinsic+json": {
              "type": "string"
            }
          },
          "metadata": {},
          "execution_count": 8
        }
      ]
    },
    {
      "cell_type": "markdown",
      "source": [
        "# Convert question to SQL query"
      ],
      "metadata": {
        "id": "AunGu5fOtCuh"
      }
    },
    {
      "cell_type": "code",
      "source": [
        "llm = ChatGroq(model=\"llama3-8b-8192\", api_key=GROQ_API_KEY, stop_sequences=[])"
      ],
      "metadata": {
        "id": "Nds3aB4mtLQd"
      },
      "execution_count": 9,
      "outputs": []
    },
    {
      "cell_type": "code",
      "source": [
        "chain = create_sql_query_chain(llm, db)\n",
        "response = chain.invoke({\"question\": \"How many employees are there\"})\n",
        "print(response)"
      ],
      "metadata": {
        "colab": {
          "base_uri": "https://localhost:8080/"
        },
        "id": "FjgUTuXMtM2-",
        "outputId": "be84c3c6-54f9-4814-9b9b-2002331b8be6"
      },
      "execution_count": 10,
      "outputs": [
        {
          "output_type": "stream",
          "name": "stdout",
          "text": [
            "Question: How many employees are there\n",
            "SQLQuery: SELECT COUNT(*) FROM \"Employee\"\n"
          ]
        }
      ]
    },
    {
      "cell_type": "code",
      "source": [
        "# Extract the SQL query from the response\n",
        "sql_query = response.split(\"SQLQuery: \")[1]\n",
        "\n",
        "# Execute the extracted SQL query\n",
        "db.run(sql_query)"
      ],
      "metadata": {
        "colab": {
          "base_uri": "https://localhost:8080/",
          "height": 36
        },
        "id": "rIN5zgKmtwyU",
        "outputId": "5499d79c-a989-4806-ea0c-7c934464bf06"
      },
      "execution_count": 11,
      "outputs": [
        {
          "output_type": "execute_result",
          "data": {
            "text/plain": [
              "'[(8,)]'"
            ],
            "application/vnd.google.colaboratory.intrinsic+json": {
              "type": "string"
            }
          },
          "metadata": {},
          "execution_count": 11
        }
      ]
    },
    {
      "cell_type": "code",
      "source": [
        "chain.get_prompts()[0].pretty_print()"
      ],
      "metadata": {
        "colab": {
          "base_uri": "https://localhost:8080/"
        },
        "id": "I8Vf86c_uWVG",
        "outputId": "7e02e581-c109-438d-f83e-c6c72a5d4099"
      },
      "execution_count": 12,
      "outputs": [
        {
          "output_type": "stream",
          "name": "stdout",
          "text": [
            "You are a SQLite expert. Given an input question, first create a syntactically correct SQLite query to run, then look at the results of the query and return the answer to the input question.\n",
            "Unless the user specifies in the question a specific number of examples to obtain, query for at most 5 results using the LIMIT clause as per SQLite. You can order the results to return the most informative data in the database.\n",
            "Never query for all columns from a table. You must query only the columns that are needed to answer the question. Wrap each column name in double quotes (\") to denote them as delimited identifiers.\n",
            "Pay attention to use only the column names you can see in the tables below. Be careful to not query for columns that do not exist. Also, pay attention to which column is in which table.\n",
            "Pay attention to use date('now') function to get the current date, if the question involves \"today\".\n",
            "\n",
            "Use the following format:\n",
            "\n",
            "Question: Question here\n",
            "SQLQuery: SQL Query to run\n",
            "SQLResult: Result of the SQLQuery\n",
            "Answer: Final answer here\n",
            "\n",
            "Only use the following tables:\n",
            "\u001b[33;1m\u001b[1;3m{table_info}\u001b[0m\n",
            "\n",
            "Question: \u001b[33;1m\u001b[1;3m{input}\u001b[0m\n"
          ]
        }
      ]
    },
    {
      "cell_type": "markdown",
      "source": [
        "# Execute SQL query"
      ],
      "metadata": {
        "id": "4dGI6hsCvEy1"
      }
    },
    {
      "cell_type": "code",
      "source": [
        "def remove_sql_query_prefix(text: str) -> str:\n",
        "  \"\"\"Removes the \"SQLQuery: \" prefix from the given text.\"\"\"\n",
        "  return text.split(\"SQLQuery: \")[1]"
      ],
      "metadata": {
        "id": "3yMF2rmZv19k"
      },
      "execution_count": 13,
      "outputs": []
    },
    {
      "cell_type": "code",
      "source": [
        "execute_query = QuerySQLDataBaseTool(db=db)\n",
        "write_query = create_sql_query_chain(llm, db) | remove_sql_query_prefix\n",
        "chain = write_query | execute_query\n",
        "chain.invoke({\"question\": \"How many employees are there\"})"
      ],
      "metadata": {
        "colab": {
          "base_uri": "https://localhost:8080/",
          "height": 36
        },
        "id": "NCAU_ZQrvarw",
        "outputId": "c6158e69-49b2-4224-ae21-94f20a3bd9e2"
      },
      "execution_count": 14,
      "outputs": [
        {
          "output_type": "execute_result",
          "data": {
            "text/plain": [
              "'[(8,)]'"
            ],
            "application/vnd.google.colaboratory.intrinsic+json": {
              "type": "string"
            }
          },
          "metadata": {},
          "execution_count": 14
        }
      ]
    },
    {
      "cell_type": "markdown",
      "source": [
        "# Answer the question"
      ],
      "metadata": {
        "id": "_S0N8W8jxEPn"
      }
    },
    {
      "cell_type": "code",
      "source": [
        "answer_prompt = PromptTemplate.from_template(\n",
        "    \"\"\"Given the following user question, corresponding SQL query, and SQL result, answer the user question.\n",
        "\n",
        "Question: {question}\n",
        "SQL Query: {query}\n",
        "SQL Result: {result}\n",
        "Answer: \"\"\"\n",
        ")\n",
        "\n",
        "chain = (\n",
        "    RunnablePassthrough.assign(query=write_query).assign(\n",
        "        result=itemgetter(\"query\") | execute_query\n",
        "    )\n",
        "    | answer_prompt\n",
        "    | llm\n",
        "    | StrOutputParser()\n",
        ")\n",
        "\n",
        "chain.invoke({\"question\": \"How many employees are there\"})"
      ],
      "metadata": {
        "colab": {
          "base_uri": "https://localhost:8080/",
          "height": 36
        },
        "id": "PdfetUx3xG1M",
        "outputId": "95588df8-7ecc-4cc0-b631-e6bee57d07e9"
      },
      "execution_count": 16,
      "outputs": [
        {
          "output_type": "execute_result",
          "data": {
            "text/plain": [
              "'According to the SQL result, [(8,)], there are **8** employees.'"
            ],
            "application/vnd.google.colaboratory.intrinsic+json": {
              "type": "string"
            }
          },
          "metadata": {},
          "execution_count": 16
        }
      ]
    },
    {
      "cell_type": "markdown",
      "source": [
        "# Agents"
      ],
      "metadata": {
        "id": "RNsqxMreyB2k"
      }
    },
    {
      "cell_type": "code",
      "source": [
        "toolkit = SQLDatabaseToolkit(db=db, llm=llm)\n",
        "\n",
        "tools = toolkit.get_tools()\n",
        "\n",
        "print(tools)"
      ],
      "metadata": {
        "colab": {
          "base_uri": "https://localhost:8080/"
        },
        "id": "CuPKVC1cxgAM",
        "outputId": "9228e935-aacd-4b73-de75-2492d8b17647"
      },
      "execution_count": 17,
      "outputs": [
        {
          "output_type": "stream",
          "name": "stdout",
          "text": [
            "[QuerySQLDataBaseTool(description=\"Input to this tool is a detailed and correct SQL query, output is a result from the database. If the query is not correct, an error message will be returned. If an error is returned, rewrite the query, check the query, and try again. If you encounter an issue with Unknown column 'xxxx' in 'field list', use sql_db_schema to query the correct table fields.\", db=<langchain_community.utilities.sql_database.SQLDatabase object at 0x7f00b1bf5390>), InfoSQLDatabaseTool(description='Input to this tool is a comma-separated list of tables, output is the schema and sample rows for those tables. Be sure that the tables actually exist by calling sql_db_list_tables first! Example Input: table1, table2, table3', db=<langchain_community.utilities.sql_database.SQLDatabase object at 0x7f00b1bf5390>), ListSQLDatabaseTool(db=<langchain_community.utilities.sql_database.SQLDatabase object at 0x7f00b1bf5390>), QuerySQLCheckerTool(description='Use this tool to double check if your query is correct before executing it. Always use this tool before executing a query with sql_db_query!', db=<langchain_community.utilities.sql_database.SQLDatabase object at 0x7f00b1bf5390>, llm=ChatGroq(client=<groq.resources.chat.completions.Completions object at 0x7f00b1223c10>, async_client=<groq.resources.chat.completions.AsyncCompletions object at 0x7f00b11ef700>, model_name='llama3-8b-8192', stop=[], groq_api_key=SecretStr('**********')), llm_chain=LLMChain(prompt=PromptTemplate(input_variables=['dialect', 'query'], template='\\n{query}\\nDouble check the {dialect} query above for common mistakes, including:\\n- Using NOT IN with NULL values\\n- Using UNION when UNION ALL should have been used\\n- Using BETWEEN for exclusive ranges\\n- Data type mismatch in predicates\\n- Properly quoting identifiers\\n- Using the correct number of arguments for functions\\n- Casting to the correct data type\\n- Using the proper columns for joins\\n\\nIf there are any of the above mistakes, rewrite the query. If there are no mistakes, just reproduce the original query.\\n\\nOutput the final SQL query only.\\n\\nSQL Query: '), llm=ChatGroq(client=<groq.resources.chat.completions.Completions object at 0x7f00b1223c10>, async_client=<groq.resources.chat.completions.AsyncCompletions object at 0x7f00b11ef700>, model_name='llama3-8b-8192', stop=[], groq_api_key=SecretStr('**********'))))]\n"
          ]
        }
      ]
    },
    {
      "cell_type": "code",
      "source": [
        "SQL_PREFIX = \"\"\"You are an agent designed to interact with a SQL database.\n",
        "Given an input question, create a syntactically correct SQLite query to run, then look at the results of the query and return the answer.\n",
        "Unless the user specifies a specific number of examples they wish to obtain, always limit your query to at most 5 results.\n",
        "You can order the results by a relevant column to return the most interesting examples in the database.\n",
        "Never query for all the columns from a specific table, only ask for the relevant columns given the question.\n",
        "You have access to tools for interacting with the database.\n",
        "Only use the below tools. Only use the information returned by the below tools to construct your final answer.\n",
        "You MUST double check your query before executing it. If you get an error while executing a query, rewrite the query and try again.\n",
        "\n",
        "DO NOT make any DML statements (INSERT, UPDATE, DELETE, DROP etc.) to the database.\n",
        "\n",
        "To start you should ALWAYS look at the tables in the database to see what you can query.\n",
        "Do NOT skip this step.\n",
        "Then you should query the schema of the most relevant tables.\"\"\"\n",
        "\n",
        "system_message = SystemMessage(content=SQL_PREFIX)"
      ],
      "metadata": {
        "id": "tppjUmg_yGdU"
      },
      "execution_count": 18,
      "outputs": []
    },
    {
      "cell_type": "code",
      "source": [
        "agent_executor = create_react_agent(llm, tools, messages_modifier=system_message)"
      ],
      "metadata": {
        "colab": {
          "base_uri": "https://localhost:8080/"
        },
        "id": "tZeRvwnlyxl1",
        "outputId": "668d875c-791c-4891-ff9a-95eaf250c41f"
      },
      "execution_count": 19,
      "outputs": [
        {
          "output_type": "stream",
          "name": "stderr",
          "text": [
            "<ipython-input-19-f0adcce6690e>:1: LangGraphDeprecationWarning: Parameter 'messages_modifier' in function 'create_react_agent' is deprecated as of version 0.1.9 and will be removed in version 0.3.0. Use 'state_modifier' parameter instead.\n",
            "  agent_executor = create_react_agent(llm, tools, messages_modifier=system_message)\n"
          ]
        }
      ]
    },
    {
      "cell_type": "code",
      "source": [
        "for s in agent_executor.stream(\n",
        "    {\"messages\": [HumanMessage(content=\"Which country's customers spent the most?\")]}\n",
        "):\n",
        "    print(s)\n",
        "    print(\"----\")"
      ],
      "metadata": {
        "colab": {
          "base_uri": "https://localhost:8080/"
        },
        "id": "6Pu2QQSey1XV",
        "outputId": "a7bc305d-a5ee-4fc6-e1f9-677f730c5f19"
      },
      "execution_count": 20,
      "outputs": [
        {
          "output_type": "stream",
          "name": "stdout",
          "text": [
            "{'agent': {'messages': [AIMessage(content='', additional_kwargs={'tool_calls': [{'id': 'call_cdw2', 'function': {'arguments': '{}', 'name': 'sql_db_list_tables'}, 'type': 'function'}, {'id': 'call_57p4', 'function': {'arguments': '{\"table_names\":\"customer_table\"}', 'name': 'sql_db_schema'}, 'type': 'function'}, {'id': 'call_qzg5', 'function': {'arguments': '{\"query\":\"SELECT country, SUM(amount) AS total_spent FROM customer_table GROUP BY country ORDER BY total_spent DESC LIMIT 1\"}', 'name': 'sql_db_query'}, 'type': 'function'}]}, response_metadata={'token_usage': {'completion_tokens': 181, 'prompt_tokens': 1633, 'total_tokens': 1814, 'completion_time': 0.150833333, 'prompt_time': 0.246343265, 'queue_time': None, 'total_time': 0.39717659800000005}, 'model_name': 'llama3-8b-8192', 'system_fingerprint': 'fp_179b0f92c9', 'finish_reason': 'tool_calls', 'logprobs': None}, id='run-085856df-bfa1-42f4-8e78-712c2f6d0574-0', tool_calls=[{'name': 'sql_db_list_tables', 'args': {}, 'id': 'call_cdw2', 'type': 'tool_call'}, {'name': 'sql_db_schema', 'args': {'table_names': 'customer_table'}, 'id': 'call_57p4', 'type': 'tool_call'}, {'name': 'sql_db_query', 'args': {'query': 'SELECT country, SUM(amount) AS total_spent FROM customer_table GROUP BY country ORDER BY total_spent DESC LIMIT 1'}, 'id': 'call_qzg5', 'type': 'tool_call'}], usage_metadata={'input_tokens': 1633, 'output_tokens': 181, 'total_tokens': 1814})]}}\n",
            "----\n",
            "{'tools': {'messages': [ToolMessage(content='Album, Artist, Customer, Employee, Genre, Invoice, InvoiceLine, MediaType, Playlist, PlaylistTrack, Track', name='sql_db_list_tables', tool_call_id='call_cdw2'), ToolMessage(content=\"Error: table_names {'customer_table'} not found in database\", name='sql_db_schema', tool_call_id='call_57p4'), ToolMessage(content='Error: (sqlite3.OperationalError) no such table: customer_table\\n[SQL: SELECT country, SUM(amount) AS total_spent FROM customer_table GROUP BY country ORDER BY total_spent DESC LIMIT 1]\\n(Background on this error at: https://sqlalche.me/e/20/e3q8)', name='sql_db_query', tool_call_id='call_qzg5')]}}\n",
            "----\n",
            "{'agent': {'messages': [AIMessage(content='', additional_kwargs={'tool_calls': [{'id': 'call_59fs', 'function': {'arguments': '{}', 'name': 'sql_db_list_tables'}, 'type': 'function'}, {'id': 'call_n9gw', 'function': {'arguments': '{\"table_names\":\"Invoice\"}', 'name': 'sql_db_schema'}, 'type': 'function'}]}, response_metadata={'token_usage': {'completion_tokens': 63, 'prompt_tokens': 1932, 'total_tokens': 1995, 'completion_time': 0.0525, 'prompt_time': 0.288153799, 'queue_time': None, 'total_time': 0.340653799}, 'model_name': 'llama3-8b-8192', 'system_fingerprint': 'fp_6a6771ae9c', 'finish_reason': 'tool_calls', 'logprobs': None}, id='run-243f5b07-2766-473d-b652-e6e33c54420a-0', tool_calls=[{'name': 'sql_db_list_tables', 'args': {}, 'id': 'call_59fs', 'type': 'tool_call'}, {'name': 'sql_db_schema', 'args': {'table_names': 'Invoice'}, 'id': 'call_n9gw', 'type': 'tool_call'}], usage_metadata={'input_tokens': 1932, 'output_tokens': 63, 'total_tokens': 1995})]}}\n",
            "----\n",
            "{'tools': {'messages': [ToolMessage(content='Album, Artist, Customer, Employee, Genre, Invoice, InvoiceLine, MediaType, Playlist, PlaylistTrack, Track', name='sql_db_list_tables', tool_call_id='call_59fs'), ToolMessage(content='\\nCREATE TABLE \"Invoice\" (\\n\\t\"InvoiceId\" INTEGER NOT NULL, \\n\\t\"CustomerId\" INTEGER NOT NULL, \\n\\t\"InvoiceDate\" DATETIME NOT NULL, \\n\\t\"BillingAddress\" NVARCHAR(70), \\n\\t\"BillingCity\" NVARCHAR(40), \\n\\t\"BillingState\" NVARCHAR(40), \\n\\t\"BillingCountry\" NVARCHAR(40), \\n\\t\"BillingPostalCode\" NVARCHAR(10), \\n\\t\"Total\" NUMERIC(10, 2) NOT NULL, \\n\\tPRIMARY KEY (\"InvoiceId\"), \\n\\tFOREIGN KEY(\"CustomerId\") REFERENCES \"Customer\" (\"CustomerId\")\\n)\\n\\n/*\\n3 rows from Invoice table:\\nInvoiceId\\tCustomerId\\tInvoiceDate\\tBillingAddress\\tBillingCity\\tBillingState\\tBillingCountry\\tBillingPostalCode\\tTotal\\n1\\t2\\t2021-01-01 00:00:00\\tTheodor-Heuss-Straße 34\\tStuttgart\\tNone\\tGermany\\t70174\\t1.98\\n2\\t4\\t2021-01-02 00:00:00\\tUllevålsveien 14\\tOslo\\tNone\\tNorway\\t0171\\t3.96\\n3\\t8\\t2021-01-03 00:00:00\\tGrétrystraat 63\\tBrussels\\tNone\\tBelgium\\t1000\\t5.94\\n*/', name='sql_db_schema', tool_call_id='call_n9gw')]}}\n",
            "----\n",
            "{'agent': {'messages': [AIMessage(content='', additional_kwargs={'tool_calls': [{'id': 'call_2eqx', 'function': {'arguments': '{\"query\":\"SELECT BillingCountry, SUM(Total) AS total_spent FROM Invoice GROUP BY BillingCountry ORDER BY total_spent DESC LIMIT 1\"}', 'name': 'sql_db_query'}, 'type': 'function'}]}, response_metadata={'token_usage': {'completion_tokens': 64, 'prompt_tokens': 2357, 'total_tokens': 2421, 'completion_time': 0.050671801, 'prompt_time': 0.351258575, 'queue_time': None, 'total_time': 0.40193037600000003}, 'model_name': 'llama3-8b-8192', 'system_fingerprint': 'fp_af05557ca2', 'finish_reason': 'tool_calls', 'logprobs': None}, id='run-e4f47c57-3450-430c-8911-f77123022a47-0', tool_calls=[{'name': 'sql_db_query', 'args': {'query': 'SELECT BillingCountry, SUM(Total) AS total_spent FROM Invoice GROUP BY BillingCountry ORDER BY total_spent DESC LIMIT 1'}, 'id': 'call_2eqx', 'type': 'tool_call'}], usage_metadata={'input_tokens': 2357, 'output_tokens': 64, 'total_tokens': 2421})]}}\n",
            "----\n",
            "{'tools': {'messages': [ToolMessage(content=\"[('USA', 523.0600000000003)]\", name='sql_db_query', tool_call_id='call_2eqx')]}}\n",
            "----\n",
            "{'agent': {'messages': [AIMessage(content='The country with the highest total spent is the USA, with a total spent of 523.06.', response_metadata={'token_usage': {'completion_tokens': 22, 'prompt_tokens': 2460, 'total_tokens': 2482, 'completion_time': 0.018333333, 'prompt_time': 0.277695616, 'queue_time': None, 'total_time': 0.296028949}, 'model_name': 'llama3-8b-8192', 'system_fingerprint': 'fp_a97cfe35ae', 'finish_reason': 'stop', 'logprobs': None}, id='run-0f6aa4ac-8201-4c3c-8916-5b039da67596-0', usage_metadata={'input_tokens': 2460, 'output_tokens': 22, 'total_tokens': 2482})]}}\n",
            "----\n"
          ]
        }
      ]
    },
    {
      "cell_type": "markdown",
      "source": [
        "# Dealing with high-cardinality columns"
      ],
      "metadata": {
        "id": "Q5Di1nfRy4QD"
      }
    },
    {
      "cell_type": "code",
      "source": [
        "def query_as_list(db, query):\n",
        "    res = db.run(query)\n",
        "    # Flatten and Filter\n",
        "    res = [el for sub in ast.literal_eval(res) for el in sub if el]\n",
        "    res = [re.sub(r\"\\b\\d+\\b\", \"\", string).strip() for string in res]\n",
        "    return list(set(res))"
      ],
      "metadata": {
        "id": "0zyOy4Xd0t0d"
      },
      "execution_count": 21,
      "outputs": []
    },
    {
      "cell_type": "code",
      "source": [
        "artists = query_as_list(db, \"SELECT Name FROM Artist\")\n",
        "artists[:5]"
      ],
      "metadata": {
        "colab": {
          "base_uri": "https://localhost:8080/"
        },
        "id": "rW2M97rJ1d_S",
        "outputId": "562e85b4-ec10-447d-a29a-79f261af356e"
      },
      "execution_count": 22,
      "outputs": [
        {
          "output_type": "execute_result",
          "data": {
            "text/plain": [
              "['Corinne Bailey Rae',\n",
              " 'The Black Crowes',\n",
              " 'The Flaming Lips',\n",
              " 'Marillion',\n",
              " 'Barry Wordsworth & BBC Concert Orchestra']"
            ]
          },
          "metadata": {},
          "execution_count": 22
        }
      ]
    },
    {
      "cell_type": "code",
      "source": [
        "albums = query_as_list(db, \"SELECT Title FROM Album\")\n",
        "albums[:5]"
      ],
      "metadata": {
        "colab": {
          "base_uri": "https://localhost:8080/"
        },
        "id": "6a7m3dYa1TNq",
        "outputId": "90aac562-460f-4b1c-de95-7aa359042adc"
      },
      "execution_count": 23,
      "outputs": [
        {
          "output_type": "execute_result",
          "data": {
            "text/plain": [
              "['Use Your Illusion II',\n",
              " 'Unplugged [Live]',\n",
              " 'Beethoven Piano Sonatas: Moonlight & Pastorale',\n",
              " 'Górecki: Symphony No.',\n",
              " 'Black Sabbath']"
            ]
          },
          "metadata": {},
          "execution_count": 23
        }
      ]
    },
    {
      "cell_type": "code",
      "source": [
        "vector_db = FAISS.from_texts(artists + albums, GoogleGenerativeAIEmbeddings(\n",
        "    model=\"models/embedding-001\",\n",
        "    google_api_key=GOOGLE_API_KEY\n",
        "    ))\n",
        "retriever = vector_db.as_retriever(search_kwargs={\"k\": 5})\n",
        "description = \"\"\"Use to look up values to filter on. Input is an approximate spelling of the proper noun, output is \\\n",
        "valid proper nouns. Use the noun most similar to the search.\"\"\"\n",
        "retriever_tool = create_retriever_tool(\n",
        "    retriever,\n",
        "    name=\"search_proper_nouns\",\n",
        "    description=description,\n",
        ")"
      ],
      "metadata": {
        "id": "tfgorAHr1VOk"
      },
      "execution_count": 24,
      "outputs": []
    },
    {
      "cell_type": "code",
      "source": [
        "print(retriever_tool.invoke(\"Alice Chains\"))"
      ],
      "metadata": {
        "colab": {
          "base_uri": "https://localhost:8080/"
        },
        "id": "9oMImOIs18V5",
        "outputId": "a975c0d5-bc87-4da3-88ba-9925cd68a853"
      },
      "execution_count": 25,
      "outputs": [
        {
          "output_type": "stream",
          "name": "stdout",
          "text": [
            "Alice In Chains\n",
            "\n",
            "Carried to Dust (Bonus Track Version)\n",
            "\n",
            "No More Tears (Remastered)\n",
            "\n",
            "Unplugged [Live]\n",
            "\n",
            "Pure Cult: The Best Of The Cult (For Rockers, Ravers, Lovers & Sinners) [UK]\n"
          ]
        }
      ]
    },
    {
      "cell_type": "code",
      "source": [
        "system = \"\"\"You are an agent designed to interact with a SQL database.\n",
        "Given an input question, create a syntactically correct SQLite query to run, then look at the results of the query and return the answer.\n",
        "Unless the user specifies a specific number of examples they wish to obtain, always limit your query to at most 5 results.\n",
        "You can order the results by a relevant column to return the most interesting examples in the database.\n",
        "Never query for all the columns from a specific table, only ask for the relevant columns given the question.\n",
        "You have access to tools for interacting with the database.\n",
        "Only use the given tools. Only use the information returned by the tools to construct your final answer.\n",
        "You MUST double check your query before executing it. If you get an error while executing a query, rewrite the query and try again.\n",
        "\n",
        "DO NOT make any DML statements (INSERT, UPDATE, DELETE, DROP etc.) to the database.\n",
        "\n",
        "You have access to the following tables: {table_names}\n",
        "\n",
        "If you need to filter on a proper noun, you must ALWAYS first look up the filter value using the \"search_proper_nouns\" tool!\n",
        "Do not try to guess at the proper name - use this function to find similar ones.\"\"\".format(\n",
        "    table_names=db.get_usable_table_names()\n",
        ")\n",
        "\n",
        "system_message = SystemMessage(content=system)\n",
        "\n",
        "tools.append(retriever_tool)\n",
        "\n",
        "agent = create_react_agent(llm, tools, messages_modifier=system_message)"
      ],
      "metadata": {
        "colab": {
          "base_uri": "https://localhost:8080/"
        },
        "id": "MWWpIrdE2WQp",
        "outputId": "ceb8867d-d8b7-4552-9381-3676170c536c"
      },
      "execution_count": 26,
      "outputs": [
        {
          "output_type": "stream",
          "name": "stderr",
          "text": [
            "<ipython-input-26-88c1cb04fff6>:23: LangGraphDeprecationWarning: Parameter 'messages_modifier' in function 'create_react_agent' is deprecated as of version 0.1.9 and will be removed in version 0.3.0. Use 'state_modifier' parameter instead.\n",
            "  agent = create_react_agent(llm, tools, messages_modifier=system_message)\n"
          ]
        }
      ]
    },
    {
      "cell_type": "code",
      "source": [
        "for s in agent.stream(\n",
        "    {\"messages\": [HumanMessage(content=\"How many albums does alis in chain have?\")]}\n",
        "):\n",
        "    print(s)\n",
        "    print(\"----\")"
      ],
      "metadata": {
        "colab": {
          "base_uri": "https://localhost:8080/"
        },
        "id": "h4hjGmii2HIU",
        "outputId": "dee2dcb4-09c1-4d00-a496-69e7defa9621"
      },
      "execution_count": 27,
      "outputs": [
        {
          "output_type": "stream",
          "name": "stdout",
          "text": [
            "{'agent': {'messages': [AIMessage(content='', additional_kwargs={'tool_calls': [{'id': 'call_j856', 'function': {'arguments': '{\"query\":\"SELECT COUNT(*) FROM Album WHERE ArtistName = \\'Alice in Chains\\'\"}', 'name': 'sql_db_query'}, 'type': 'function'}]}, response_metadata={'token_usage': {'completion_tokens': 79, 'prompt_tokens': 1826, 'total_tokens': 1905, 'completion_time': 0.065833333, 'prompt_time': 0.373423331, 'queue_time': None, 'total_time': 0.439256664}, 'model_name': 'llama3-8b-8192', 'system_fingerprint': 'fp_873a560973', 'finish_reason': 'tool_calls', 'logprobs': None}, id='run-894603b1-e661-4f02-9ff7-286c8b617a01-0', tool_calls=[{'name': 'sql_db_query', 'args': {'query': \"SELECT COUNT(*) FROM Album WHERE ArtistName = 'Alice in Chains'\"}, 'id': 'call_j856', 'type': 'tool_call'}], usage_metadata={'input_tokens': 1826, 'output_tokens': 79, 'total_tokens': 1905})]}}\n",
            "----\n",
            "{'tools': {'messages': [ToolMessage(content=\"Error: (sqlite3.OperationalError) no such column: ArtistName\\n[SQL: SELECT COUNT(*) FROM Album WHERE ArtistName = 'Alice in Chains']\\n(Background on this error at: https://sqlalche.me/e/20/e3q8)\", name='sql_db_query', tool_call_id='call_j856')]}}\n",
            "----\n",
            "{'agent': {'messages': [AIMessage(content='', additional_kwargs={'tool_calls': [{'id': 'call_bakg', 'function': {'arguments': '{\"table_names\":\"Album\"}', 'name': 'sql_db_schema'}, 'type': 'function'}, {'id': 'call_c5pz', 'function': {'arguments': '{\"query\":\"SELECT column_name FROM INFORMATION_SCHEMA.COLUMNS WHERE table_name = \\'Album\\' AND COLUMN_NAME = \\'Artist\\'\"}', 'name': 'sql_db_query'}, 'type': 'function'}]}, response_metadata={'token_usage': {'completion_tokens': 129, 'prompt_tokens': 1955, 'total_tokens': 2084, 'completion_time': 0.1075, 'prompt_time': 0.293844748, 'queue_time': None, 'total_time': 0.401344748}, 'model_name': 'llama3-8b-8192', 'system_fingerprint': 'fp_179b0f92c9', 'finish_reason': 'tool_calls', 'logprobs': None}, id='run-ed782b34-7f3b-4fd0-976a-419295196550-0', tool_calls=[{'name': 'sql_db_schema', 'args': {'table_names': 'Album'}, 'id': 'call_bakg', 'type': 'tool_call'}, {'name': 'sql_db_query', 'args': {'query': \"SELECT column_name FROM INFORMATION_SCHEMA.COLUMNS WHERE table_name = 'Album' AND COLUMN_NAME = 'Artist'\"}, 'id': 'call_c5pz', 'type': 'tool_call'}], usage_metadata={'input_tokens': 1955, 'output_tokens': 129, 'total_tokens': 2084})]}}\n",
            "----\n",
            "{'tools': {'messages': [ToolMessage(content='\\nCREATE TABLE \"Album\" (\\n\\t\"AlbumId\" INTEGER NOT NULL, \\n\\t\"Title\" NVARCHAR(160) NOT NULL, \\n\\t\"ArtistId\" INTEGER NOT NULL, \\n\\tPRIMARY KEY (\"AlbumId\"), \\n\\tFOREIGN KEY(\"ArtistId\") REFERENCES \"Artist\" (\"ArtistId\")\\n)\\n\\n/*\\n3 rows from Album table:\\nAlbumId\\tTitle\\tArtistId\\n1\\tFor Those About To Rock We Salute You\\t1\\n2\\tBalls to the Wall\\t2\\n3\\tRestless and Wild\\t2\\n*/', name='sql_db_schema', tool_call_id='call_bakg'), ToolMessage(content=\"Error: (sqlite3.OperationalError) no such table: INFORMATION_SCHEMA.COLUMNS\\n[SQL: SELECT column_name FROM INFORMATION_SCHEMA.COLUMNS WHERE table_name = 'Album' AND COLUMN_NAME = 'Artist']\\n(Background on this error at: https://sqlalche.me/e/20/e3q8)\", name='sql_db_query', tool_call_id='call_c5pz')]}}\n",
            "----\n",
            "{'agent': {'messages': [AIMessage(content='', additional_kwargs={'tool_calls': [{'id': 'call_7g3f', 'function': {'arguments': '{\"table_names\":\"Album\"}', 'name': 'sql_db_schema'}, 'type': 'function'}, {'id': 'call_7pkq', 'function': {'arguments': '{\"query\":\"SELECT column_name FROM sqlite_master WHERE type = \\'table\\' AND name = \\'Album\\'\"}', 'name': 'sql_db_query'}, 'type': 'function'}]}, response_metadata={'token_usage': {'completion_tokens': 83, 'prompt_tokens': 2270, 'total_tokens': 2353, 'completion_time': 0.069166667, 'prompt_time': 0.348460171, 'queue_time': None, 'total_time': 0.417626838}, 'model_name': 'llama3-8b-8192', 'system_fingerprint': 'fp_6a6771ae9c', 'finish_reason': 'tool_calls', 'logprobs': None}, id='run-6cf6e6c1-df74-4bf1-a652-76193369d6a4-0', tool_calls=[{'name': 'sql_db_schema', 'args': {'table_names': 'Album'}, 'id': 'call_7g3f', 'type': 'tool_call'}, {'name': 'sql_db_query', 'args': {'query': \"SELECT column_name FROM sqlite_master WHERE type = 'table' AND name = 'Album'\"}, 'id': 'call_7pkq', 'type': 'tool_call'}], usage_metadata={'input_tokens': 2270, 'output_tokens': 83, 'total_tokens': 2353})]}}\n",
            "----\n",
            "{'tools': {'messages': [ToolMessage(content='\\nCREATE TABLE \"Album\" (\\n\\t\"AlbumId\" INTEGER NOT NULL, \\n\\t\"Title\" NVARCHAR(160) NOT NULL, \\n\\t\"ArtistId\" INTEGER NOT NULL, \\n\\tPRIMARY KEY (\"AlbumId\"), \\n\\tFOREIGN KEY(\"ArtistId\") REFERENCES \"Artist\" (\"ArtistId\")\\n)\\n\\n/*\\n3 rows from Album table:\\nAlbumId\\tTitle\\tArtistId\\n1\\tFor Those About To Rock We Salute You\\t1\\n2\\tBalls to the Wall\\t2\\n3\\tRestless and Wild\\t2\\n*/', name='sql_db_schema', tool_call_id='call_7g3f'), ToolMessage(content=\"Error: (sqlite3.OperationalError) no such column: column_name\\n[SQL: SELECT column_name FROM sqlite_master WHERE type = 'table' AND name = 'Album']\\n(Background on this error at: https://sqlalche.me/e/20/e3q8)\", name='sql_db_query', tool_call_id='call_7pkq')]}}\n",
            "----\n",
            "{'agent': {'messages': [AIMessage(content='', additional_kwargs={'tool_calls': [{'id': 'call_k82k', 'function': {'arguments': '{\"query\":\"SELECT * FROM Album WHERE ArtistId = (SELECT ArtistId FROM Artist WHERE Name = \\'Alice in Chains\\')\"}', 'name': 'sql_db_query'}, 'type': 'function'}]}, response_metadata={'token_usage': {'completion_tokens': 58, 'prompt_tokens': 2581, 'total_tokens': 2639, 'completion_time': 0.045573813, 'prompt_time': 0.385875135, 'queue_time': None, 'total_time': 0.431448948}, 'model_name': 'llama3-8b-8192', 'system_fingerprint': 'fp_af05557ca2', 'finish_reason': 'tool_calls', 'logprobs': None}, id='run-cb7d9534-3142-4708-8b00-96718d26a7f0-0', tool_calls=[{'name': 'sql_db_query', 'args': {'query': \"SELECT * FROM Album WHERE ArtistId = (SELECT ArtistId FROM Artist WHERE Name = 'Alice in Chains')\"}, 'id': 'call_k82k', 'type': 'tool_call'}], usage_metadata={'input_tokens': 2581, 'output_tokens': 58, 'total_tokens': 2639})]}}\n",
            "----\n",
            "{'tools': {'messages': [ToolMessage(content='', name='sql_db_query', tool_call_id='call_k82k')]}}\n",
            "----\n",
            "{'agent': {'messages': [AIMessage(content=\"Please provide the actual output of the query, and I'll continue the conversation accordingly.\\n\\nIf the query didn't return any results, I'll need to modify the query to retrieve the correct information.\", response_metadata={'token_usage': {'completion_tokens': 40, 'prompt_tokens': 2666, 'total_tokens': 2706, 'completion_time': 0.033333333, 'prompt_time': 0.300332459, 'queue_time': None, 'total_time': 0.333665792}, 'model_name': 'llama3-8b-8192', 'system_fingerprint': 'fp_a97cfe35ae', 'finish_reason': 'stop', 'logprobs': None}, id='run-21d2cef6-1bfb-4c48-88ee-b2a430300ff6-0', usage_metadata={'input_tokens': 2666, 'output_tokens': 40, 'total_tokens': 2706})]}}\n",
            "----\n"
          ]
        }
      ]
    },
    {
      "cell_type": "code",
      "source": [],
      "metadata": {
        "id": "E7UyYxYfaadt"
      },
      "execution_count": null,
      "outputs": []
    }
  ]
}